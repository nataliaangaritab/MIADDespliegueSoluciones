{
 "cells": [
  {
   "cell_type": "code",
   "execution_count": null,
   "id": "23a9b1dc",
   "metadata": {},
   "outputs": [],
   "source": [
    "import warnings\n",
    "# Deshabilitar todos los warnings\n",
    "warnings.filterwarnings(\"ignore\")\n",
    "    \n",
    "import pandas as pd\n",
    "from sklearn.model_selection import train_test_split\n",
    "# Se carga el archivo de datos ya pre-procesado\n",
    "df = pd.read_csv(\"./data/datos_VF.csv\")\n",
    "columnas_a_convertir = ['ID_UC_READING_CYCLE', 'ID_MUNICIPALITY', 'ID_REGION', 'UC_COL_ID_05']\n",
    "df[columnas_a_convertir] = df[columnas_a_convertir].astype(object)\n",
    "# Cambiar valores específicos en la columna 'variable'\n",
    "valores_a_cambiar = {10: 0, 7: 1}  # Diccionario de valores a cambiar {valor_original: valor_nuevo}\n",
    "df['RESULTADO'] = df['RESULTADO'].replace(valores_a_cambiar)\n",
    "\n",
    "# Se borrra la etiqueta\n",
    "X = df.drop(\"Unnamed: 0\",axis=1)\n",
    "X = X.drop(\"RESULTADO\",axis=1)\n",
    "# Guarda las etiquetas en un objeto de la serie Pandas\n",
    "y = df['RESULTADO']\n",
    "\n",
    "X_train, X_test, y_train, y_test = train_test_split(X, y, test_size=0.2, random_state=42)"
   ]
  },
  {
   "cell_type": "code",
   "execution_count": null,
   "id": "6a0e2e9f",
   "metadata": {},
   "outputs": [],
   "source": [
    "#Se importa MLFlow para registrar los experimentos, el clasificador de bosques aleatorios y la métrica de error cuadrático medio\n",
    "import mlflow\n",
    "import mlflow.sklearn\n",
    "from sklearn.ensemble import RandomForestClassifier\n",
    "from sklearn.metrics import mean_squared_error, accuracy_score\n",
    "\n",
    "# Se registra el experimento\n",
    "experiment = mlflow.set_experiment(\"sklearn-diab\")\n",
    "\n",
    "# Se ejecuta MLflow sin especificar un nombre o id del experimento. MLflow los crea un experimento para este cuaderno \n",
    "# por defecto y guarda las características del experimento y las métricas definidas. \n",
    "with mlflow.start_run(experiment_id=experiment.experiment_id):\n",
    "    # Se define los parámetros del modelo\n",
    "    n_estimators = 250 \n",
    "    max_depth = 5\n",
    "    max_features = 10\n",
    "    # Se crea el modelo con los parámetros definidos y se entrena\n",
    "    rf = RandomForestClassifier(n_estimators = n_estimators, max_depth = max_depth, max_features = max_features)\n",
    "    rf.fit(X_train, y_train)\n",
    "    # Realice predicciones de prueba\n",
    "    predictions = rf.predict(X_test)\n",
    "  \n",
    "    # Se registra los parámetros\n",
    "    mlflow.log_param(\"num_trees\", n_estimators)\n",
    "    mlflow.log_param(\"maxdepth\", max_depth)\n",
    "    mlflow.log_param(\"max_feat\", max_features)\n",
    "  \n",
    "    # Se registra el modelo\n",
    "    mlflow.sklearn.log_model(rf, \"random-forest-model\")\n",
    "  \n",
    "    # Se crea y registra las métricas de interés\n",
    "    mse = mean_squared_error(y_test, predictions)\n",
    "    mlflow.log_metric(\"mse\", mse)\n",
    "    print(mse)\n",
    "    \n",
    "    accuracy  = accuracy_score(y_test, predictions)\n",
    "    mlflow.log_metric(\"accuracy \", accuracy )\n",
    "    print(mse)\n",
    "    "
   ]
  }
 ],
 "metadata": {
  "kernelspec": {
   "display_name": "Python 3 (ipykernel)",
   "language": "python",
   "name": "python3"
  },
  "language_info": {
   "codemirror_mode": {
    "name": "ipython",
    "version": 3
   },
   "file_extension": ".py",
   "mimetype": "text/x-python",
   "name": "python",
   "nbconvert_exporter": "python",
   "pygments_lexer": "ipython3",
   "version": "3.9.16"
  }
 },
 "nbformat": 4,
 "nbformat_minor": 5
}
