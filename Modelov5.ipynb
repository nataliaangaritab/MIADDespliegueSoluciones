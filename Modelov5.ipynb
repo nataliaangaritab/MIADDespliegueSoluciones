{
 "cells": [
  {
   "cell_type": "code",
   "execution_count": 12,
   "id": "bfea0763",
   "metadata": {},
   "outputs": [],
   "source": [
    "import warnings\n",
    "# Deshabilitar todos los warnings\n",
    "warnings.filterwarnings(\"ignore\")\n",
    "    \n",
    "import pandas as pd\n",
    "from sklearn.model_selection import train_test_split\n",
    "# Se carga el archivo de datos ya pre-procesado\n",
    "df = pd.read_csv(\"./data/datos_VF.csv\")\n",
    "columnas_a_convertir = ['ID_UC_READING_CYCLE', 'ID_MUNICIPALITY', 'ID_REGION', 'UC_COL_ID_05']\n",
    "df[columnas_a_convertir] = df[columnas_a_convertir].astype(object)\n",
    "# Cambiar valores específicos en la columna 'variable'\n",
    "valores_a_cambiar = {10: 0, 7: 1}  # Diccionario de valores a cambiar {valor_original: valor_nuevo}\n",
    "df['RESULTADO'] = df['RESULTADO'].replace(valores_a_cambiar)\n",
    "\n",
    "# Se borrra la etiqueta\n",
    "X = df.drop(\"Unnamed: 0\",axis=1)\n",
    "X = X.drop(\"RESULTADO\",axis=1)\n",
    "# Guarda las etiquetas en un objeto de la serie Pandas\n",
    "y = df['RESULTADO']\n",
    "\n",
    "X_train, X_test, y_train, y_test = train_test_split(X, y, test_size=0.2, random_state=42)"
   ]
  },
  {
   "cell_type": "code",
   "execution_count": 26,
   "id": "162b6926",
   "metadata": {
    "scrolled": true
   },
   "outputs": [
    {
     "name": "stdout",
     "output_type": "stream",
     "text": [
      "[[0.74647254 0.25352746]\n",
      " [0.79176775 0.20823225]\n",
      " [0.7613138  0.2386862 ]\n",
      " ...\n",
      " [0.87627882 0.12372118]\n",
      " [0.79193317 0.20806683]\n",
      " [0.75368989 0.24631011]]\n"
     ]
    }
   ],
   "source": [
    "from sklearn.ensemble import RandomForestClassifier\n",
    "from sklearn.metrics import mean_squared_error, accuracy_score\n",
    "# Se define los parámetros del modelo\n",
    "n_estimators = 250 \n",
    "max_depth = 5\n",
    "max_features = 10\n",
    "# Se crea el modelo con los parámetros definidos y se entrena\n",
    "rf = RandomForestClassifier(n_estimators = n_estimators, max_depth = max_depth, max_features = max_features)\n",
    "rf.fit(X_train, y_train)\n",
    "# Realice predicciones de prueba\n",
    "predictions = rf.predict_proba(X_test)\n",
    "print(predictions)\n"
   ]
  },
  {
   "cell_type": "code",
   "execution_count": 27,
   "id": "2a3b7334",
   "metadata": {},
   "outputs": [
    {
     "name": "stdout",
     "output_type": "stream",
     "text": [
      "[0.25352746 0.20823225 0.2386862  ... 0.12372118 0.20806683 0.24631011]\n"
     ]
    }
   ],
   "source": [
    "predictions_clase_1 = predictions[:, 1]\n",
    "print(predictions_clase_1)"
   ]
  }
 ],
 "metadata": {
  "kernelspec": {
   "display_name": "Python 3 (ipykernel)",
   "language": "python",
   "name": "python3"
  },
  "language_info": {
   "codemirror_mode": {
    "name": "ipython",
    "version": 3
   },
   "file_extension": ".py",
   "mimetype": "text/x-python",
   "name": "python",
   "nbconvert_exporter": "python",
   "pygments_lexer": "ipython3",
   "version": "3.9.16"
  }
 },
 "nbformat": 4,
 "nbformat_minor": 5
}
